{
 "cells": [
  {
   "cell_type": "code",
   "execution_count": 4,
   "metadata": {},
   "outputs": [],
   "source": [
    "import os\n",
    "\n",
    "import numpy as np\n",
    "import matplotlib.pyplot as plt\n",
    "from scipy.interpolate import RegularGridInterpolator\n",
    "\n",
    "import rasterio\n",
    "import rasterio.merge\n",
    "import rasterio.mask\n",
    "import geopandas as gpd\n",
    "from osgeo import gdal, osr, ogr\n",
    "from shapely.geometry import box\n",
    "import fiona"
   ]
  },
  {
   "cell_type": "markdown",
   "metadata": {},
   "source": [
    "## Functions"
   ]
  },
  {
   "cell_type": "code",
   "execution_count": 5,
   "metadata": {},
   "outputs": [],
   "source": [
    "def get_tif_corners(tif_path):\n",
    "    '''https://nsidc.org/support/faq/how-can-i-reproject-geotiff-file-polar-stereographic-projecton-geographic-latlon'''\n",
    "    ds=gdal.Open(tif_path)\n",
    "\n",
    "    gt=ds.GetGeoTransform()\n",
    "    cols = ds.RasterXSize\n",
    "    rows = ds.RasterYSize\n",
    "    ext=GetExtent(gt,cols,rows)\n",
    "\n",
    "    src_srs=osr.SpatialReference()\n",
    "    src_srs.ImportFromWkt(ds.GetProjection())\n",
    "    #tgt_srs=osr.SpatialReference()\n",
    "    #tgt_srs.ImportFromEPSG(4326)\n",
    "    tgt_srs = src_srs.CloneGeogCS()\n",
    "    geo_ext = np.array(ReprojectCoords(ext, src_srs, tgt_srs))\n",
    "    return geo_ext\n",
    "\n",
    "\n",
    "def load_tif_as_array(tiff_file):\n",
    "    '''https://gis.stackexchange.com/questions/154669/editing-tiff-rasters-in-python/285685#285685'''\n",
    "    geotransform = tiff_file.GetGeoTransform()\n",
    "    projection = tiff_file.GetProjection()\n",
    "    band = tiff_file.GetRasterBand(1)    \n",
    "    xsize = band.XSize\n",
    "    ysize = band.YSize\n",
    "    array = band.ReadAsArray()\n",
    "    tiff_file = None #close it\n",
    "    band = None #close it\n",
    "    return array\n",
    "\n",
    "\n",
    "def GetExtent(gt,cols,rows):\n",
    "    ''' Return list of corner coordinates from a geotransform\n",
    "\n",
    "        @type gt:   C{tuple/list}\n",
    "        @param gt: geotransform\n",
    "        @type cols:   C{int}\n",
    "        @param cols: number of columns in the dataset\n",
    "        @type rows:   C{int}\n",
    "        @param rows: number of rows in the dataset\n",
    "        @rtype:    C{[float,...,float]}\n",
    "        @return:   coordinates of each corner\n",
    "    '''\n",
    "    ext=[]\n",
    "    xarr=[0,cols]\n",
    "    yarr=[0,rows]\n",
    "\n",
    "    for px in xarr:\n",
    "        for py in yarr:\n",
    "            x=gt[0]+(px*gt[1])+(py*gt[2])\n",
    "            y=gt[3]+(px*gt[4])+(py*gt[5])\n",
    "            ext.append([x,y])\n",
    "            print(x,y)\n",
    "        yarr.reverse()\n",
    "    return ext\n",
    "\n",
    "def ReprojectCoords(coords,src_srs,tgt_srs):\n",
    "    ''' Reproject a list of x,y coordinates.\n",
    "\n",
    "        @type geom:     C{tuple/list}\n",
    "        @param geom:    List of [[x,y],...[x,y]] coordinates\n",
    "        @type src_srs:  C{osr.SpatialReference}\n",
    "        @param src_srs: OSR SpatialReference object\n",
    "        @type tgt_srs:  C{osr.SpatialReference}\n",
    "        @param tgt_srs: OSR SpatialReference object\n",
    "        @rtype:         C{tuple/list}\n",
    "        @return:        List of transformed [[x,y],...[x,y]] coordinates\n",
    "    '''\n",
    "    trans_coords=[]\n",
    "    transform = osr.CoordinateTransformation( src_srs, tgt_srs)\n",
    "    for x,y in coords:\n",
    "        x,y,z = transform.TransformPoint(x,y)\n",
    "        trans_coords.append([x,y])\n",
    "    return trans_coords\n",
    "\n",
    "def get_tif_corners(path):\n",
    "    ds=gdal.Open(path)\n",
    "\n",
    "    gt=ds.GetGeoTransform()\n",
    "    cols = ds.RasterXSize\n",
    "    rows = ds.RasterYSize\n",
    "    ext = np.array(GetExtent(gt,cols,rows))\n",
    "# \n",
    "    # src_srs=osr.SpatialReference()\n",
    "    # src_srs.ImportFromWkt(ds.GetProjection())\n",
    "# \n",
    "    # tgt_srs = src_srs.CloneGeogCS()\n",
    "# \n",
    "    # geo_ext=np.array(ReprojectCoords(ext, src_srs, tgt_srs))\n",
    "\n",
    "    # X = lon/easting, Y = lat/northing\n",
    "    x_min, x_max = np.min(ext[:, 0]), np.max(ext[:, 0])\n",
    "    y_min, y_max = np.min(ext[:, 1]), np.max(ext[:, 1])\n",
    "    \n",
    "    return x_min, x_max, y_min, y_max\n",
    "\n",
    "def merge_tifs(tif_path, write_path, **kwargs):\n",
    "    '''Merges two tif files together using rasterio merge'''\n",
    "    dataset1 = rasterio.open(tif_path[0])\n",
    "    dataset2 = rasterio.open(tif_path[1])\n",
    "\n",
    "    dest, output_transform = rasterio.merge.merge([dataset1,dataset2], **kwargs)\n",
    "\n",
    "    with rasterio.open(ocean_mask_path) as src:\n",
    "            out_meta = src.meta.copy()    \n",
    "            out_meta.update({\"driver\": \"GTiff\",\n",
    "                             \"height\": dest.shape[1],\n",
    "                             \"width\": dest.shape[2],\n",
    "                             \"transform\": output_transform})\n",
    "\n",
    "    with rasterio.open(write_path, \"w\", **out_meta) as dest1:\n",
    "            dest1.write(dest)\n",
    "            \n",
    "def get_bounds(bounds, padding=[0.01, 0.005, 0.01, 0.005]):\n",
    "    '''Takes rasterio tif bounds as input. \n",
    "    Padding is a list of padding given in percentage of \n",
    "    bound size, and follows same order as bounds'''\n",
    "    \n",
    "    left_bound = bounds.left  - np.abs(bounds.left * padding[0])\n",
    "    right_bound = bounds.right  + np.abs(bounds.right * padding[2])\n",
    "    top_bound = bounds.top  + np.abs(bounds.top * padding[3])\n",
    "    bottom_bound = bounds.bottom  - np.abs(bounds.bottom * padding[1])\n",
    "    \n",
    "    return left_bound, bottom_bound, right_bound, top_bound\n",
    "\n",
    "def make_coordinate_arrays(raster_path):\n",
    "    ds = gdal.Open(raster_path, gdal.GA_ReadOnly)\n",
    "    gt = ds.GetGeoTransform()\n",
    "    \n",
    "    data = rasterio.open(raster_path)\n",
    "    \n",
    "    # build vector of coordinates from geotransform and array\n",
    "    col = np.arange(0, data.read(1).shape[1])\n",
    "    row = np.arange(0, data.read(1).shape[0])\n",
    "\n",
    "    # col, row to x, y\n",
    "    x = np.add(np.multiply(col, gt[1]), gt[0])\n",
    "    y = np.add(np.multiply(row, gt[5]), gt[3])\n",
    "    \n",
    "    return x, y\n",
    "\n",
    "def unit_test_bounds(raster_bounded, raster_bounds):\n",
    "    '''Compare the raster which should be bounded by raster bounds by plotting the raster and the wanted bounds on top'''\n",
    "    left_bound, bottom_bound, right_bound, top_bound = raster_bounds[:]\n",
    "    fig, ax = plt.subplots()\n",
    "    fig.set_size_inches(15, 9)\n",
    "    plt.imshow(ocean_mask.read(1), \n",
    "               extent=[ocean_mask.bounds.left, \n",
    "                       ocean_mask.bounds.right, \n",
    "                       ocean_mask.bounds.bottom, \n",
    "                       ocean_mask.bounds.top], zorder=1)\n",
    "    ax.scatter([left_bound, left_bound, right_bound, right_bound], [top_bound, bottom_bound, top_bound, bottom_bound], color='red', zorder=2, s=100)\n",
    "    plt.show()\n",
    "    \n",
    "def crop_raster_to_bounds(raster_path, bounds):\n",
    "    '''crop raster to bounds (l, b, r, t) tuple. Saves cropped raster in new file'''\n",
    "    shape = gpd.GeoDataFrame({\"id\":1,\"geometry\":[box(*bounds)]})\n",
    "    shape.to_file(\"tmp.shp\")\n",
    "\n",
    "    with fiona.open(\"tmp.shp\", \"r\") as shapefile:\n",
    "        shapes = [feature[\"geometry\"] for feature in shapefile]\n",
    "\n",
    "    with rasterio.open(raster_path) as src:\n",
    "        out_image, out_transform = rasterio.mask.mask(src, shapes, crop=True)\n",
    "        out_meta = src.meta\n",
    "\n",
    "    out_meta.update({\"driver\": \"GTiff\",\n",
    "                     \"height\": out_image.shape[1],\n",
    "                     \"width\": out_image.shape[2],\n",
    "                     \"transform\": out_transform})\n",
    "\n",
    "    new_name = raster_path.split(\".\")[0] + \"_cropped.tif\"\n",
    "\n",
    "    with rasterio.open(new_name, \"w\", **out_meta) as dest:\n",
    "        dest.write(out_image)\n",
    "        \n",
    "    os.remove(\"tmp.shp\")\n",
    "    os.remove(\"tmp.cpg\")\n",
    "    os.remove(\"tmp.dbf\")\n",
    "    os.remove(\"tmp.shx\")\n",
    "    return new_name"
   ]
  },
  {
   "cell_type": "code",
   "execution_count": 37,
   "metadata": {},
   "outputs": [],
   "source": [
    "os.remove(\"mergedRasters.tif\")"
   ]
  },
  {
   "cell_type": "markdown",
   "metadata": {},
   "source": [
    "## Paths"
   ]
  },
  {
   "cell_type": "code",
   "execution_count": 6,
   "metadata": {},
   "outputs": [],
   "source": [
    "promice_mask_path = '/Users/eyu/Google Drive/DTU/11_semester/master_thesis/data/PROMICE_icemask_100_AndersKusk/PROMICE_icemask_100.tif'\n",
    "coherence_path_1 = '/Users/eyu/Google Drive/DTU/11_semester/master_thesis/data/coherence/Coher_20170715_20170721_5_1_1_1_ortho.tif'\n",
    "coherence_path_2 = '/Users/eyu/Google Drive/DTU/11_semester/master_thesis/data/coherence/Coher_20170709_20170715_5_1_1_1_ortho.tif'\n",
    "ocean_mask_path = '/Users/eyu/Google Drive/DTU/11_semester/master_thesis/data/gimp/GimpOceanMask_15m_tile1_3_v1.1.tif'\n",
    "ocean_mask_path_1 = '/Users/eyu/Google Drive/DTU/11_semester/master_thesis/data/gimp/GimpOceanMask_15m_tile1_2_v1.1.tif'\n",
    "coherence_stereo_path = \"/Users/eyu/Google Drive/DTU/11_semester/master_thesis/preliminary_coding/first_simulations/coherence_stere.tif\"\n",
    "merged_ocean_mask_path = os.getcwd() + \"/merged_ocean_mask.tif\""
   ]
  },
  {
   "cell_type": "code",
   "execution_count": 7,
   "metadata": {},
   "outputs": [],
   "source": [
    "ocean_mask = rasterio.open(ocean_mask_path)\n",
    "ice_mask = rasterio.open(promice_mask_path)\n",
    "coherence_stereo = rasterio.open(coherence_stereo_path)"
   ]
  },
  {
   "cell_type": "markdown",
   "metadata": {},
   "source": [
    "#### Get coherence bounding box"
   ]
  },
  {
   "cell_type": "code",
   "execution_count": 8,
   "metadata": {},
   "outputs": [],
   "source": [
    "left_bound, bottom_bound, right_bound, top_bound = get_bounds(coherence_stereo.bounds, padding=[0.01, 0.005, 0.01, 0.005])"
   ]
  },
  {
   "cell_type": "markdown",
   "metadata": {},
   "source": [
    "#### Crop ice mask to bounding box"
   ]
  },
  {
   "cell_type": "code",
   "execution_count": 9,
   "metadata": {},
   "outputs": [],
   "source": [
    "new_ice_mask_path = crop_raster_to_bounds(promice_mask_path, (left_bound, bottom_bound, right_bound, top_bound))"
   ]
  },
  {
   "cell_type": "code",
   "execution_count": 10,
   "metadata": {},
   "outputs": [],
   "source": [
    "ice_mask_cropped = rasterio.open(new_ice_mask_path)"
   ]
  },
  {
   "cell_type": "markdown",
   "metadata": {},
   "source": [
    "#### Load ocean mask"
   ]
  },
  {
   "cell_type": "code",
   "execution_count": 11,
   "metadata": {},
   "outputs": [],
   "source": [
    "coherence_bounds = (left_bound, bottom_bound, right_bound, top_bound)# coherence_stereo.bounds\n",
    "merge_tifs([ocean_mask_path, ocean_mask_path_1], merged_ocean_mask_path, bounds=coherence_bounds)"
   ]
  },
  {
   "cell_type": "code",
   "execution_count": 12,
   "metadata": {},
   "outputs": [],
   "source": [
    "ocean_mask = rasterio.open(merged_ocean_mask_path)"
   ]
  },
  {
   "cell_type": "markdown",
   "metadata": {},
   "source": [
    "#### Make coordinate grid"
   ]
  },
  {
   "cell_type": "code",
   "execution_count": 13,
   "metadata": {},
   "outputs": [],
   "source": [
    "x_coherence, y_coherence = make_coordinate_arrays(coherence_stereo_path)\n",
    "y_coherence = np.flip(y_coherence)\n",
    "x_coh_grid, y_coh_grid = np.meshgrid(x_coherence, y_coherence)"
   ]
  },
  {
   "cell_type": "markdown",
   "metadata": {},
   "source": [
    "####  Ocean mask coordinates"
   ]
  },
  {
   "cell_type": "code",
   "execution_count": 14,
   "metadata": {},
   "outputs": [],
   "source": [
    "x_ocean, y_ocean = make_coordinate_arrays(merged_ocean_mask_path)"
   ]
  },
  {
   "cell_type": "markdown",
   "metadata": {},
   "source": [
    "####  Ice mask coordinates"
   ]
  },
  {
   "cell_type": "code",
   "execution_count": 15,
   "metadata": {},
   "outputs": [],
   "source": [
    "x_ice, y_ice = make_coordinate_arrays(new_ice_mask_path)"
   ]
  },
  {
   "cell_type": "markdown",
   "metadata": {},
   "source": [
    "#### Interpolate"
   ]
  },
  {
   "cell_type": "code",
   "execution_count": 19,
   "metadata": {},
   "outputs": [],
   "source": [
    "RGI_ocean = RegularGridInterpolator((np.flip(y_ocean), x_ocean), np.flipud(ocean_mask.read(1)), method='nearest')"
   ]
  },
  {
   "cell_type": "code",
   "execution_count": 21,
   "metadata": {},
   "outputs": [],
   "source": [
    "RGI_ice = RegularGridInterpolator((np.flip(y_ice), x_ice), np.flipud(ice_mask_cropped.read(1)), method='nearest')"
   ]
  },
  {
   "cell_type": "code",
   "execution_count": 22,
   "metadata": {},
   "outputs": [],
   "source": [
    "coordinates = np.vstack((y_coh_grid.flatten(), x_coh_grid.flatten())).T"
   ]
  },
  {
   "cell_type": "code",
   "execution_count": 23,
   "metadata": {},
   "outputs": [],
   "source": [
    "ocean_mask_interpolated = RGI_ocean(coordinates).reshape(y_coh_grid.shape)"
   ]
  },
  {
   "cell_type": "code",
   "execution_count": 24,
   "metadata": {},
   "outputs": [],
   "source": [
    "ice_mask_interpolated = RGI_ice(coordinates).reshape(y_coh_grid.shape)"
   ]
  },
  {
   "cell_type": "code",
   "execution_count": 25,
   "metadata": {},
   "outputs": [],
   "source": [
    "combined_masks = ocean_mask_interpolated + ice_mask_interpolated"
   ]
  },
  {
   "cell_type": "code",
   "execution_count": 26,
   "metadata": {},
   "outputs": [
    {
     "data": {
      "text/plain": [
       "<matplotlib.image.AxesImage at 0x10b5a1e80>"
      ]
     },
     "execution_count": 26,
     "metadata": {},
     "output_type": "execute_result"
    },
    {
     "data": {
      "image/png": "[encoded data removed]",
      "text/plain": [
       "<Figure size 432x288 with 1 Axes>"
      ]
     },
     "metadata": {
      "needs_background": "light"
     },
     "output_type": "display_data"
    }
   ],
   "source": [
    "plt.imshow(np.flipud(combined_masks))"
   ]
  },
  {
   "cell_type": "code",
   "execution_count": 29,
   "metadata": {},
   "outputs": [],
   "source": [
    "ocean_mask_interpolated_uint8 = (ocean_mask_interpolated * 255.999) .astype(np.uint8)  # right, Janna, not 256\n",
    "ice_mask_interpolated_uint8 = (ice_mask_interpolated * 255.999) .astype(np.uint8)  # right, Janna, not 256"
   ]
  },
  {
   "cell_type": "code",
   "execution_count": 30,
   "metadata": {},
   "outputs": [],
   "source": [
    "np.save(\"/Users/eyu/Google Drive/DTU/11_semester/master_thesis/data/ocean_mask_karrat.npy\", ocean_mask_interpolated_uint8)\n",
    "np.save(\"/Users/eyu/Google Drive/DTU/11_semester/master_thesis/data/ice_mask_karrat.npy\", ice_mask_interpolated_uint8)"
   ]
  }
 ],
 "metadata": {
  "kernelspec": {
   "display_name": "Python 3",
   "language": "python",
   "name": "python3"
  },
  "language_info": {
   "codemirror_mode": {
    "name": "ipython",
    "version": 3
   },
   "file_extension": ".py",
   "mimetype": "text/x-python",
   "name": "python",
   "nbconvert_exporter": "python",
   "pygments_lexer": "ipython3",
   "version": "3.6.7"
  }
 },
 "nbformat": 4,
 "nbformat_minor": 4
}
